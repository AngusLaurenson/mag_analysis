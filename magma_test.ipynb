{
 "cells": [
  {
   "cell_type": "markdown",
   "metadata": {},
   "source": [
    "# Test case of analysis of ovf files by magma.py\n",
    "We work through an example test case where a time series of ovf files that contain meta data and magnetisation vector field at a moment in time are analysed by use of the magama.py module which provides ovf I/O to HDF5 files, as well as out of core fft functionality for large datasets."
   ]
  },
  {
   "cell_type": "code",
   "execution_count": 1,
   "metadata": {},
   "outputs": [
    {
     "name": "stdout",
     "output_type": "stream",
     "text": [
      "/home/asl203/mag_analysis/mag_analysis\n"
     ]
    }
   ],
   "source": [
    "cd ~/mag_analysis/mag_analysis/"
   ]
  },
  {
   "cell_type": "code",
   "execution_count": 2,
   "metadata": {
    "collapsed": true
   },
   "outputs": [],
   "source": [
    "import magma"
   ]
  },
  {
   "cell_type": "code",
   "execution_count": 3,
   "metadata": {},
   "outputs": [
    {
     "name": "stdout",
     "output_type": "stream",
     "text": [
      "/home/asl203/skyrmion_single_excite.out\n"
     ]
    }
   ],
   "source": [
    "cd ~/skyrmion_single_excite.out/"
   ]
  },
  {
   "cell_type": "markdown",
   "metadata": {},
   "source": [
    "Create an isntance of the analyser object"
   ]
  },
  {
   "cell_type": "code",
   "execution_count": 4,
   "metadata": {
    "collapsed": true
   },
   "outputs": [],
   "source": [
    "test = magma.analyser"
   ]
  },
  {
   "cell_type": "markdown",
   "metadata": {},
   "source": [
    "Get list of ovf files to feed the analyser"
   ]
  },
  {
   "cell_type": "code",
   "execution_count": 5,
   "metadata": {},
   "outputs": [
    {
     "name": "stdout",
     "output_type": "stream",
     "text": [
      "/home/asl203/skyrmion_single_excite.out\n"
     ]
    }
   ],
   "source": [
    "cd ~/skyrmion_single_excite.out/"
   ]
  },
  {
   "cell_type": "code",
   "execution_count": 6,
   "metadata": {},
   "outputs": [
    {
     "name": "stdout",
     "output_type": "stream",
     "text": [
      "['m_zrange16_000000.ovf', 'm_zrange16_000001.ovf', 'm_zrange16_000002.ovf', 'm_zrange16_000003.ovf', 'm_zrange16_000004.ovf']\n"
     ]
    }
   ],
   "source": [
    "ovfs = !ls *m*.ovf\n",
    "print(ovfs[:5])"
   ]
  },
  {
   "cell_type": "markdown",
   "metadata": {},
   "source": [
    "declare instance of magma module's analyser object"
   ]
  },
  {
   "cell_type": "code",
   "execution_count": 15,
   "metadata": {},
   "outputs": [],
   "source": [
    "test = magma.analyser()"
   ]
  },
  {
   "cell_type": "markdown",
   "metadata": {},
   "source": [
    "Process the ovf files into a hdf5 file which has chunks automatically determined"
   ]
  },
  {
   "cell_type": "code",
   "execution_count": 16,
   "metadata": {},
   "outputs": [
    {
     "name": "stdout",
     "output_type": "stream",
     "text": [
      "new_test.hdf5\n",
      "m_zrange16_000010.ovf\n",
      " "
     ]
    }
   ],
   "source": [
    "%%prun\n",
    "test.ovf_to_hdf('new_test.hdf5', ovfs)"
   ]
  },
  {
   "cell_type": "code",
   "execution_count": 9,
   "metadata": {},
   "outputs": [
    {
     "data": {
      "text/plain": [
       "(array([[[[ 0., -0.,  0.]],\n",
       " \n",
       "         [[ 0., -0.,  0.]],\n",
       " \n",
       "         [[ 0., -0.,  0.]],\n",
       " \n",
       "         ..., \n",
       "         [[ 0.,  0.,  0.]],\n",
       " \n",
       "         [[ 0.,  0.,  0.]],\n",
       " \n",
       "         [[ 0.,  0.,  0.]]],\n",
       " \n",
       " \n",
       "        [[[ 0., -0.,  0.]],\n",
       " \n",
       "         [[ 0., -0.,  0.]],\n",
       " \n",
       "         [[ 0., -0.,  0.]],\n",
       " \n",
       "         ..., \n",
       "         [[ 0.,  0.,  0.]],\n",
       " \n",
       "         [[ 0.,  0.,  0.]],\n",
       " \n",
       "         [[ 0.,  0.,  0.]]],\n",
       " \n",
       " \n",
       "        [[[ 0., -0.,  0.]],\n",
       " \n",
       "         [[ 0., -0.,  0.]],\n",
       " \n",
       "         [[ 0., -0.,  0.]],\n",
       " \n",
       "         ..., \n",
       "         [[ 0.,  0.,  0.]],\n",
       " \n",
       "         [[ 0.,  0.,  0.]],\n",
       " \n",
       "         [[ 0.,  0.,  0.]]],\n",
       " \n",
       " \n",
       "        ..., \n",
       "        [[[-0., -0.,  0.]],\n",
       " \n",
       "         [[-0., -0.,  0.]],\n",
       " \n",
       "         [[-0., -0.,  0.]],\n",
       " \n",
       "         ..., \n",
       "         [[ 0.,  0.,  0.]],\n",
       " \n",
       "         [[ 0.,  0.,  0.]],\n",
       " \n",
       "         [[ 0.,  0.,  0.]]],\n",
       " \n",
       " \n",
       "        [[[-0., -0.,  0.]],\n",
       " \n",
       "         [[-0., -0.,  0.]],\n",
       " \n",
       "         [[-0., -0.,  0.]],\n",
       " \n",
       "         ..., \n",
       "         [[ 0.,  0.,  0.]],\n",
       " \n",
       "         [[ 0.,  0.,  0.]],\n",
       " \n",
       "         [[ 0.,  0.,  0.]]],\n",
       " \n",
       " \n",
       "        [[[-0., -0.,  0.]],\n",
       " \n",
       "         [[-0., -0.,  0.]],\n",
       " \n",
       "         [[-0., -0.,  0.]],\n",
       " \n",
       "         ..., \n",
       "         [[ 0.,  0.,  0.]],\n",
       " \n",
       "         [[ 0.,  0.,  0.]],\n",
       " \n",
       "         [[ 0.,  0.,  0.]]]], dtype=float32),\n",
       " {'Binary': 4.0,\n",
       "  'OVF': 2.0,\n",
       "  'count': 1.0,\n",
       "  'time': 0.0,\n",
       "  'valuedim': 3.0,\n",
       "  'valueunits': 1.0,\n",
       "  'xbase': 6.25e-10,\n",
       "  'xmax': 1.6e-07,\n",
       "  'xmin': 0.0,\n",
       "  'xnodes': 128.0,\n",
       "  'xstepsize': 1.25e-09,\n",
       "  'ybase': 6.25e-10,\n",
       "  'ymax': 1.6e-07,\n",
       "  'ymin': 0.0,\n",
       "  'ynodes': 128.0,\n",
       "  'ystepsize': 1.25e-09,\n",
       "  'zbase': 5e-10,\n",
       "  'zmax': 1e-09,\n",
       "  'zmin': 0.0,\n",
       "  'znodes': 1.0,\n",
       "  'zrange': 16.0,\n",
       "  'zstepsize': 1e-09},\n",
       " ['# OOMMF OVF 2.0\\n',\n",
       "  '# Segment count: 1\\n',\n",
       "  '# Begin: Segment\\n',\n",
       "  '# Begin: Header\\n',\n",
       "  '# Title: m_zrange16_\\n',\n",
       "  '# meshtype: rectangular\\n',\n",
       "  '# meshunit: m\\n',\n",
       "  '# xmin: 0\\n',\n",
       "  '# ymin: 0\\n',\n",
       "  '# zmin: 0\\n',\n",
       "  '# xmax: 1.6e-07\\n',\n",
       "  '# ymax: 1.6e-07\\n',\n",
       "  '# zmax: 1e-09\\n',\n",
       "  '# valuedim: 3\\n',\n",
       "  '# valuelabels: m_zrange16__x m_zrange16__y m_zrange16__z\\n',\n",
       "  '# valueunits: 1 1 1\\n',\n",
       "  '# Desc: Total simulation time:  0  s\\n',\n",
       "  '# xbase: 6.25e-10\\n',\n",
       "  '# ybase: 6.25e-10\\n',\n",
       "  '# zbase: 5e-10\\n',\n",
       "  '# xnodes: 128\\n',\n",
       "  '# ynodes: 128\\n',\n",
       "  '# znodes: 1\\n',\n",
       "  '# xstepsize: 1.25e-09\\n',\n",
       "  '# ystepsize: 1.25e-09\\n',\n",
       "  '# zstepsize: 1e-09\\n',\n",
       "  '# End: Header\\n',\n",
       "  '# Begin: Data Binary 4\\n'])"
      ]
     },
     "execution_count": 9,
     "metadata": {},
     "output_type": "execute_result"
    }
   ],
   "source": [
    "test.read_ovf(ovfs[0])"
   ]
  },
  {
   "cell_type": "markdown",
   "metadata": {},
   "source": [
    "there is a problem calling read_ovf from ovf_to_hdf... read_ovf is unavailable in the scope of the method. To check the syntax for calling a method, from another method of the same class we make a trial case below"
   ]
  },
  {
   "cell_type": "code",
   "execution_count": 13,
   "metadata": {},
   "outputs": [],
   "source": [
    "# test.fft_dask('single_skyrmion_mag.hdf5','mag','fft_test', 2)"
   ]
  }
 ],
 "metadata": {
  "kernelspec": {
   "display_name": "Python 3",
   "language": "python",
   "name": "python3"
  },
  "language_info": {
   "codemirror_mode": {
    "name": "ipython",
    "version": 3
   },
   "file_extension": ".py",
   "mimetype": "text/x-python",
   "name": "python",
   "nbconvert_exporter": "python",
   "pygments_lexer": "ipython3",
   "version": "3.6.3"
  }
 },
 "nbformat": 4,
 "nbformat_minor": 2
}
